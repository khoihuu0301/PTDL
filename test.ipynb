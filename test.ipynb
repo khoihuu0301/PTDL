{
 "cells": [
  {
   "cell_type": "code",
   "execution_count": 1,
   "metadata": {},
   "outputs": [
    {
     "name": "stdout",
     "output_type": "stream",
     "text": [
      "Defaulting to user installation because normal site-packages is not writeable\n",
      "Requirement already satisfied: pandas in /home/k/.local/lib/python3.10/site-packages (1.5.3)\n",
      "Requirement already satisfied: python-dateutil>=2.8.1 in /home/k/.local/lib/python3.10/site-packages (from pandas) (2.8.2)\n",
      "Requirement already satisfied: pytz>=2020.1 in /usr/lib/python3/dist-packages (from pandas) (2022.1)\n",
      "Requirement already satisfied: numpy>=1.21.0 in /home/k/.local/lib/python3.10/site-packages (from pandas) (1.24.3)\n",
      "Requirement already satisfied: six>=1.5 in /home/k/.local/lib/python3.10/site-packages (from python-dateutil>=2.8.1->pandas) (1.16.0)\n",
      "Note: you may need to restart the kernel to use updated packages.\n",
      "Defaulting to user installation because normal site-packages is not writeable\n",
      "Requirement already satisfied: scikit-learn in /home/k/.local/lib/python3.10/site-packages (1.2.2)\n",
      "Requirement already satisfied: scipy>=1.3.2 in /home/k/.local/lib/python3.10/site-packages (from scikit-learn) (1.10.1)\n",
      "Requirement already satisfied: joblib>=1.1.1 in /home/k/.local/lib/python3.10/site-packages (from scikit-learn) (1.2.0)\n",
      "Requirement already satisfied: numpy>=1.17.3 in /home/k/.local/lib/python3.10/site-packages (from scikit-learn) (1.24.3)\n",
      "Requirement already satisfied: threadpoolctl>=2.0.0 in /home/k/.local/lib/python3.10/site-packages (from scikit-learn) (3.1.0)\n",
      "Note: you may need to restart the kernel to use updated packages.\n",
      "Defaulting to user installation because normal site-packages is not writeable\n",
      "Requirement already satisfied: cardinality in /home/k/.local/lib/python3.10/site-packages (0.1.1)\n",
      "Note: you may need to restart the kernel to use updated packages.\n"
     ]
    }
   ],
   "source": [
    "%pip install pandas\n",
    "%pip install scikit-learn\n",
    "%pip install cardinality"
   ]
  },
  {
   "cell_type": "code",
   "execution_count": 2,
   "metadata": {},
   "outputs": [],
   "source": [
    "import pandas as pd\n",
    "import numpy as np\n",
    "from collections import Counter\n",
    "from sklearn import datasets\n",
    "from sklearn.cluster import KMeans \n",
    "from sklearn.metrics import completeness_score"
   ]
  },
  {
   "cell_type": "code",
   "execution_count": 26,
   "metadata": {},
   "outputs": [],
   "source": [
    "df = pd.read_csv(\"https://raw.githubusercontent.com/khoihuu0301/PTDL/main/BC_New.csv\")"
   ]
  },
  {
   "cell_type": "code",
   "execution_count": 40,
   "metadata": {},
   "outputs": [
    {
     "name": "stdout",
     "output_type": "stream",
     "text": [
      "<class 'pandas.core.frame.DataFrame'>\n",
      "RangeIndex: 10127 entries, 0 to 10126\n",
      "Data columns (total 23 columns):\n",
      " #   Column                                                                                                                              Non-Null Count  Dtype  \n",
      "---  ------                                                                                                                              --------------  -----  \n",
      " 0   CLIENTNUM                                                                                                                           10127 non-null  int64  \n",
      " 1   Attrition_Flag                                                                                                                      10127 non-null  object \n",
      " 2   Customer_Age                                                                                                                        10127 non-null  int64  \n",
      " 3   Gender                                                                                                                              10127 non-null  object \n",
      " 4   Dependent_count                                                                                                                     10127 non-null  int64  \n",
      " 5   Education_Level                                                                                                                     10127 non-null  object \n",
      " 6   Marital_Status                                                                                                                      10127 non-null  object \n",
      " 7   Income_Category                                                                                                                     10127 non-null  object \n",
      " 8   Card_Category                                                                                                                       10127 non-null  object \n",
      " 9   Months_on_book                                                                                                                      10127 non-null  int64  \n",
      " 10  Total_Relationship_Count                                                                                                            10127 non-null  int64  \n",
      " 11  Months_Inactive_12_mon                                                                                                              10127 non-null  int64  \n",
      " 12  Contacts_Count_12_mon                                                                                                               10127 non-null  int64  \n",
      " 13  Credit_Limit                                                                                                                        10127 non-null  float64\n",
      " 14  Total_Revolving_Bal                                                                                                                 10127 non-null  int64  \n",
      " 15  Avg_Open_To_Buy                                                                                                                     10127 non-null  float64\n",
      " 16  Total_Amt_Chng_Q4_Q1                                                                                                                10127 non-null  float64\n",
      " 17  Total_Trans_Amt                                                                                                                     10127 non-null  int64  \n",
      " 18  Total_Trans_Ct                                                                                                                      10127 non-null  int64  \n",
      " 19  Total_Ct_Chng_Q4_Q1                                                                                                                 10127 non-null  float64\n",
      " 20  Avg_Utilization_Ratio                                                                                                               10127 non-null  float64\n",
      " 21  Naive_Bayes_Classifier_Attrition_Flag_Card_Category_Contacts_Count_12_mon_Dependent_count_Education_Level_Months_Inactive_12_mon_1  10127 non-null  float64\n",
      " 22  Naive_Bayes_Classifier_Attrition_Flag_Card_Category_Contacts_Count_12_mon_Dependent_count_Education_Level_Months_Inactive_12_mon_2  10127 non-null  float64\n",
      "dtypes: float64(7), int64(10), object(6)\n",
      "memory usage: 1.8+ MB\n"
     ]
    }
   ],
   "source": [
    "df.info()\n"
   ]
  },
  {
   "cell_type": "code",
   "execution_count": 42,
   "metadata": {},
   "outputs": [
    {
     "name": "stdout",
     "output_type": "stream",
     "text": [
      "Column Name: Total_Ct_Chng_Q4_Q1\n",
      "Data Type: float64\n",
      "Count: 10127\n",
      "Distinct Count: 830\n",
      "\n",
      "Summary Statistics:\n",
      " count    10127.000000\n",
      "mean         0.712222\n",
      "std          0.238086\n",
      "min          0.000000\n",
      "25%          0.582000\n",
      "50%          0.702000\n",
      "75%          0.818000\n",
      "max          3.714000\n",
      "Name: Total_Ct_Chng_Q4_Q1, dtype: float64\n",
      "\n",
      "Additional Statistics:\n",
      "Data Types: [<class 'float'>]\n",
      "Field Value (MIN): 0.0\n",
      "Field Value (MAX): 3.714\n",
      "Field Format: None\n"
     ]
    }
   ],
   "source": [
    "import pandas as pd\n",
    "\n",
    "# Create a sample DataFrame\n",
    "\n",
    "# Get column name\n",
    "column_name = 'Total_Ct_Chng_Q4_Q1'\n",
    "\n",
    "# Access the column\n",
    "column = df[column_name]\n",
    "\n",
    "# Calculate statistics\n",
    "count = column.count()  # Count of non-null values\n",
    "unique_values = column.unique()  # Array of unique values\n",
    "distinct_count = len(unique_values)  # Count of distinct values\n",
    "value_counts = column.value_counts()  # Count of each unique value\n",
    "percent = value_counts/count*100\n",
    "\n",
    "# Generate summary statistics\n",
    "summary_stats = column.describe()\n",
    "\n",
    "# Additional statistics\n",
    "data_types = column.apply(type).unique()  # Array of unique data types in the column\n",
    "#min_length = column.str.len().min()  # Minimum string length\n",
    "#max_length = column.str.len().max()  # Maximum string length\n",
    "min_value = column.min()  # Minimum value\n",
    "max_value = column.max()  # Maximum value\n",
    "field_format = None  # Field format (specific format or pattern)\n",
    "\n",
    "# Display the results\n",
    "print(\"Column Name:\", column_name)\n",
    "print(\"Data Type:\", column.dtype)\n",
    "print(\"Count:\", count)\n",
    "#print(\"Unique Values:\", unique_values)\n",
    "print(\"Distinct Count:\", distinct_count)\n",
    "#print(\"Value Counts:\\n\", value_counts)\n",
    "#print(\"Value Percent:\\n\", percent)\n",
    "print(\"\\nSummary Statistics:\\n\", summary_stats)\n",
    "print(\"\\nAdditional Statistics:\")\n",
    "print(\"Data Types:\", data_types)\n",
    "#print(\"Field Length (MIN):\", min_length)\n",
    "#print(\"Field Length (MAX):\", max_length)\n",
    "print(\"Field Value (MIN):\", min_value)\n",
    "print(\"Field Value (MAX):\", max_value)\n",
    "print(\"Field Format:\", field_format)\n"
   ]
  },
  {
   "cell_type": "code",
   "execution_count": 44,
   "metadata": {},
   "outputs": [
    {
     "name": "stdout",
     "output_type": "stream",
     "text": [
      "Column Name: Total_Ct_Chng_Q4_Q1\n",
      "Data Type: float64\n",
      "Count: 10127\n",
      "Value Percent (among Top 10):\n",
      " 0.667    1.688555\n",
      "1.000    1.639182\n",
      "0.500    1.589809\n",
      "0.750    1.540436\n",
      "0.600    1.115829\n",
      "0.800    0.997334\n",
      "0.714    0.908463\n",
      "0.833    0.839340\n",
      "0.778    0.681347\n",
      "0.625    0.622099\n",
      "Name: Total_Ct_Chng_Q4_Q1, dtype: float64\n",
      "\n",
      "Summary Statistics:\n",
      " count    10127.000000\n",
      "mean         0.712222\n",
      "std          0.238086\n",
      "min          0.000000\n",
      "25%          0.582000\n",
      "50%          0.702000\n",
      "75%          0.818000\n",
      "max          3.714000\n",
      "Name: Total_Ct_Chng_Q4_Q1, dtype: float64\n",
      "\n",
      "Additional Statistics:\n",
      "Data Types: [<class 'float'>]\n",
      "Field Value (MIN): 0.0\n",
      "Field Value (MAX): 3.714\n",
      "Field Format: None\n"
     ]
    }
   ],
   "source": [
    "# Access the column\n",
    "column = df['Total_Ct_Chng_Q4_Q1']\n",
    "\n",
    "# Calculate statistics\n",
    "count = column.count()  # Count of non-null values\n",
    "top_10_values = column.value_counts().head(10)  # Top 10 most frequent values\n",
    "distinct_count = len(top_10_values)  # Count of distinct values among the top 10\n",
    "percent = top_10_values/count*100\n",
    "\n",
    "# Generate summary statistics\n",
    "summary_stats = column.describe()\n",
    "\n",
    "# Additional statistics\n",
    "data_types = column.apply(type).unique()  # Array of unique data types in the column\n",
    "min_value = column.min()  # Minimum value\n",
    "max_value = column.max()  # Maximum value\n",
    "field_format = None  # Field format (specific format or pattern)\n",
    "\n",
    "# Display the results\n",
    "print(\"Column Name:\", column_name)\n",
    "print(\"Data Type:\", column.dtype)\n",
    "print(\"Count:\", count)\n",
    "#print(\"Top 10 Values:\\n\", top_10_values)\n",
    "#print(\"Distinct Count (among Top 10):\", distinct_count)\n",
    "print(\"Value Percent (among Top 10):\\n\", percent)\n",
    "print(\"\\nSummary Statistics:\\n\", summary_stats)\n",
    "print(\"\\nAdditional Statistics:\")\n",
    "print(\"Data Types:\", data_types)\n",
    "print(\"Field Value (MIN):\", min_value)\n",
    "print(\"Field Value (MAX):\", max_value)\n",
    "print(\"Field Format:\", field_format)\n"
   ]
  },
  {
   "cell_type": "code",
   "execution_count": 29,
   "metadata": {},
   "outputs": [],
   "source": [
    "unique_values = column.unique()"
   ]
  },
  {
   "cell_type": "code",
   "execution_count": 30,
   "metadata": {},
   "outputs": [
    {
     "name": "stdout",
     "output_type": "stream",
     "text": [
      "['$60K - $80K' 'Less than $40K' '$80K - $120K' '$40K - $60K' '$120K +']\n"
     ]
    }
   ],
   "source": [
    "print(unique_values)"
   ]
  },
  {
   "cell_type": "code",
   "execution_count": 31,
   "metadata": {},
   "outputs": [],
   "source": [
    "grouped_df = df.groupby('Income_Category').agg({'Total_Trans_Ct': 'sum', 'Total_Trans_Amt': 'sum'})"
   ]
  },
  {
   "cell_type": "code",
   "execution_count": 32,
   "metadata": {},
   "outputs": [
    {
     "name": "stdout",
     "output_type": "stream",
     "text": [
      "<class 'pandas.core.frame.DataFrame'>\n",
      "Index: 5 entries, $120K + to Less than $40K\n",
      "Data columns (total 2 columns):\n",
      " #   Column           Non-Null Count  Dtype\n",
      "---  ------           --------------  -----\n",
      " 0   Total_Trans_Ct   5 non-null      int64\n",
      " 1   Total_Trans_Amt  5 non-null      int64\n",
      "dtypes: int64(2)\n",
      "memory usage: 120.0+ bytes\n"
     ]
    }
   ],
   "source": [
    "grouped_df.info()"
   ]
  },
  {
   "cell_type": "code",
   "execution_count": 33,
   "metadata": {},
   "outputs": [
    {
     "data": {
      "text/html": [
       "<div>\n",
       "<style scoped>\n",
       "    .dataframe tbody tr th:only-of-type {\n",
       "        vertical-align: middle;\n",
       "    }\n",
       "\n",
       "    .dataframe tbody tr th {\n",
       "        vertical-align: top;\n",
       "    }\n",
       "\n",
       "    .dataframe thead th {\n",
       "        text-align: right;\n",
       "    }\n",
       "</style>\n",
       "<table border=\"1\" class=\"dataframe\">\n",
       "  <thead>\n",
       "    <tr style=\"text-align: right;\">\n",
       "      <th></th>\n",
       "      <th>Total_Trans_Ct</th>\n",
       "      <th>Total_Trans_Amt</th>\n",
       "    </tr>\n",
       "    <tr>\n",
       "      <th>Income_Category</th>\n",
       "      <th></th>\n",
       "      <th></th>\n",
       "    </tr>\n",
       "  </thead>\n",
       "  <tbody>\n",
       "    <tr>\n",
       "      <th>$120K +</th>\n",
       "      <td>53191</td>\n",
       "      <td>3741501</td>\n",
       "    </tr>\n",
       "    <tr>\n",
       "      <th>$40K - $60K</th>\n",
       "      <td>130782</td>\n",
       "      <td>8815891</td>\n",
       "    </tr>\n",
       "    <tr>\n",
       "      <th>$60K - $80K</th>\n",
       "      <td>98706</td>\n",
       "      <td>6916126</td>\n",
       "    </tr>\n",
       "    <tr>\n",
       "      <th>$80K - $120K</th>\n",
       "      <td>107445</td>\n",
       "      <td>7662202</td>\n",
       "    </tr>\n",
       "    <tr>\n",
       "      <th>Less than $40K</th>\n",
       "      <td>266700</td>\n",
       "      <td>17464462</td>\n",
       "    </tr>\n",
       "  </tbody>\n",
       "</table>\n",
       "</div>"
      ],
      "text/plain": [
       "                 Total_Trans_Ct  Total_Trans_Amt\n",
       "Income_Category                                 \n",
       "$120K +                   53191          3741501\n",
       "$40K - $60K              130782          8815891\n",
       "$60K - $80K               98706          6916126\n",
       "$80K - $120K             107445          7662202\n",
       "Less than $40K           266700         17464462"
      ]
     },
     "execution_count": 33,
     "metadata": {},
     "output_type": "execute_result"
    }
   ],
   "source": [
    "grouped_df.head()"
   ]
  },
  {
   "cell_type": "code",
   "execution_count": 34,
   "metadata": {},
   "outputs": [],
   "source": [
    "grouped_df['Avg'] = grouped_df['Total_Trans_Amt']/grouped_df['Total_Trans_Ct']"
   ]
  },
  {
   "cell_type": "code",
   "execution_count": 35,
   "metadata": {},
   "outputs": [
    {
     "data": {
      "text/html": [
       "<div>\n",
       "<style scoped>\n",
       "    .dataframe tbody tr th:only-of-type {\n",
       "        vertical-align: middle;\n",
       "    }\n",
       "\n",
       "    .dataframe tbody tr th {\n",
       "        vertical-align: top;\n",
       "    }\n",
       "\n",
       "    .dataframe thead th {\n",
       "        text-align: right;\n",
       "    }\n",
       "</style>\n",
       "<table border=\"1\" class=\"dataframe\">\n",
       "  <thead>\n",
       "    <tr style=\"text-align: right;\">\n",
       "      <th></th>\n",
       "      <th>Total_Trans_Ct</th>\n",
       "      <th>Total_Trans_Amt</th>\n",
       "      <th>Avg</th>\n",
       "    </tr>\n",
       "    <tr>\n",
       "      <th>Income_Category</th>\n",
       "      <th></th>\n",
       "      <th></th>\n",
       "      <th></th>\n",
       "    </tr>\n",
       "  </thead>\n",
       "  <tbody>\n",
       "    <tr>\n",
       "      <th>$120K +</th>\n",
       "      <td>53191</td>\n",
       "      <td>3741501</td>\n",
       "      <td>70.340866</td>\n",
       "    </tr>\n",
       "    <tr>\n",
       "      <th>$40K - $60K</th>\n",
       "      <td>130782</td>\n",
       "      <td>8815891</td>\n",
       "      <td>67.409055</td>\n",
       "    </tr>\n",
       "    <tr>\n",
       "      <th>$60K - $80K</th>\n",
       "      <td>98706</td>\n",
       "      <td>6916126</td>\n",
       "      <td>70.067939</td>\n",
       "    </tr>\n",
       "    <tr>\n",
       "      <th>$80K - $120K</th>\n",
       "      <td>107445</td>\n",
       "      <td>7662202</td>\n",
       "      <td>71.312783</td>\n",
       "    </tr>\n",
       "    <tr>\n",
       "      <th>Less than $40K</th>\n",
       "      <td>266700</td>\n",
       "      <td>17464462</td>\n",
       "      <td>65.483547</td>\n",
       "    </tr>\n",
       "  </tbody>\n",
       "</table>\n",
       "</div>"
      ],
      "text/plain": [
       "                 Total_Trans_Ct  Total_Trans_Amt        Avg\n",
       "Income_Category                                            \n",
       "$120K +                   53191          3741501  70.340866\n",
       "$40K - $60K              130782          8815891  67.409055\n",
       "$60K - $80K               98706          6916126  70.067939\n",
       "$80K - $120K             107445          7662202  71.312783\n",
       "Less than $40K           266700         17464462  65.483547"
      ]
     },
     "execution_count": 35,
     "metadata": {},
     "output_type": "execute_result"
    }
   ],
   "source": [
    "grouped_df.head()"
   ]
  },
  {
   "cell_type": "code",
   "execution_count": 36,
   "metadata": {},
   "outputs": [
    {
     "data": {
      "text/plain": [
       "70.3408659359666"
      ]
     },
     "execution_count": 36,
     "metadata": {},
     "output_type": "execute_result"
    }
   ],
   "source": [
    "3741501/53191"
   ]
  },
  {
   "cell_type": "code",
   "execution_count": null,
   "metadata": {},
   "outputs": [],
   "source": []
  }
 ],
 "metadata": {
  "kernelspec": {
   "display_name": "Python 3",
   "language": "python",
   "name": "python3"
  },
  "language_info": {
   "codemirror_mode": {
    "name": "ipython",
    "version": 3
   },
   "file_extension": ".py",
   "mimetype": "text/x-python",
   "name": "python",
   "nbconvert_exporter": "python",
   "pygments_lexer": "ipython3",
   "version": "3.10.6"
  },
  "orig_nbformat": 4
 },
 "nbformat": 4,
 "nbformat_minor": 2
}
